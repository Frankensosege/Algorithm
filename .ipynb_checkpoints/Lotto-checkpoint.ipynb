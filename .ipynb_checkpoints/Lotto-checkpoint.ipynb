{
 "cells": [
  {
   "cell_type": "code",
   "execution_count": 24,
   "id": "bc304a91",
   "metadata": {},
   "outputs": [
    {
     "name": "stdout",
     "output_type": "stream",
     "text": [
      "반복 횟 수 > 5\n",
      "1 번째 자동 번호 -->  9, 13, 25, 26, 30, 33\n",
      "2 번째 자동 번호 -->  3,  6, 16, 24, 33, 40\n",
      "3 번째 자동 번호 --> 16, 28, 30, 37, 40, 42\n",
      "4 번째 자동 번호 --> 17, 25, 27, 35, 37, 45\n",
      "5 번째 자동 번호 -->  2, 10, 16, 27, 30, 40\n"
     ]
    }
   ],
   "source": [
    "import random\n",
    "\n",
    "def create_num():\n",
    "    num_set = set([])\n",
    "    while len(num_set) < 6:\n",
    "        num_set.add(random.randint(1, 45))\n",
    "    return num_set\n",
    "    \n",
    "cnt = input(\"반복 횟 수 > \")\n",
    "if cnt.isdecimal():\n",
    "    for i in range(int(cnt)):\n",
    "        num_set = create_num()\n",
    "        print(\"{} 번째 자동 번호 --> {:2d}, {:2d}, {:2d}, {:2d}, {:2d}, {:2d}\".format(i+1, *sorted(num_set)) )"
   ]
  },
  {
   "cell_type": "code",
   "execution_count": 27,
   "id": "52241d23",
   "metadata": {},
   "outputs": [
    {
     "name": "stdout",
     "output_type": "stream",
     "text": [
      "가 : 7회\n",
      "에 : 4회\n",
      "리 : 6회\n",
      "다 : 4회\n"
     ]
    }
   ],
   "source": [
    "# 김소월의 시에서 4회 이상 나온 글자를 출력, 단 영문/한글만\n",
    "poet = '''\n",
    "나 보기가 역겨워 가실 때에는 말없이 고이 보내 드리오리다\n",
    "영변에 약산 진달래꽃 아름 따다 가실 길에 뿌리오리다\n",
    "가시는 걸음 걸음 놓인 그 꽃을 사뿐히 즈려 밟고 가시옵소서\n",
    "나 보기가 역겨워 가실 때에는 죽어도 아니 눈물 흘리오리다\n",
    " '''\n",
    "poet_list = list(poet)\n",
    "poet_dic = {}\n",
    "for i in poet_list:\n",
    "    if i.isalpha():\n",
    "        if i in poet_dic:\n",
    "            poet_dic[i] += 1\n",
    "        else:\n",
    "            poet_dic[i] = 1\n",
    "\n",
    "for key, value in poet_dic.items():\n",
    "    if value >= 4:\n",
    "        print(f'{key} : {value}회')"
   ]
  }
 ],
 "metadata": {
  "kernelspec": {
   "display_name": "Python 3 (ipykernel)",
   "language": "python",
   "name": "python3"
  },
  "language_info": {
   "codemirror_mode": {
    "name": "ipython",
    "version": 3
   },
   "file_extension": ".py",
   "mimetype": "text/x-python",
   "name": "python",
   "nbconvert_exporter": "python",
   "pygments_lexer": "ipython3",
   "version": "3.9.13"
  }
 },
 "nbformat": 4,
 "nbformat_minor": 5
}
