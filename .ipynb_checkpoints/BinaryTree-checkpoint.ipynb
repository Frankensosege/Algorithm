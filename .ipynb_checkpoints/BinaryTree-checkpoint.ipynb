{
 "cells": [
  {
   "cell_type": "code",
   "execution_count": 20,
   "id": "24ae7d1c",
   "metadata": {},
   "outputs": [],
   "source": [
    "class TreeNode:\n",
    "    def __init__(self):\n",
    "        self.left = None\n",
    "        self.data = None\n",
    "        self.right = None\n",
    "    \n",
    "    def process(self):\n",
    "        print(self.data, end=' -> ')"
   ]
  },
  {
   "cell_type": "code",
   "execution_count": 21,
   "id": "a6822a05",
   "metadata": {},
   "outputs": [],
   "source": [
    "node1 = TreeNode() # 빈 노드 생성\n",
    "node1.data = '화사'\n",
    "\n",
    "node2 = TreeNode() # 빈 노드 생성\n",
    "node2.data = '솔라'\n",
    "# node1 left에 node2 연결\n",
    "node1.left = node2\n",
    "\n",
    "node3 = TreeNode() # 빈 노드 생성\n",
    "node3.data = '문별'\n",
    "# node1 right node3 연결\n",
    "node1.right = node3\n",
    "\n",
    "node4 = TreeNode() # 빈 노드 생성\n",
    "node4.data = '휘인'\n",
    "# node2 left node4 연결\n",
    "node2.left = node4\n",
    "\n",
    "node5 = TreeNode() # 빈 노드 생성\n",
    "node5.data = '쯔위'\n",
    "# node2 right node5 연결\n",
    "node2.right = node5\n",
    "\n",
    "node6 = TreeNode() # 빈 노드 생성\n",
    "node6.data = '선미'\n",
    "# node3 left node6 연결\n",
    "node3.left = node6"
   ]
  },
  {
   "cell_type": "code",
   "execution_count": 22,
   "id": "d78c4a8d",
   "metadata": {},
   "outputs": [
    {
     "name": "stdout",
     "output_type": "stream",
     "text": [
      "화사\n",
      "솔라 문별\n",
      "휘인 쯔위 선미\n"
     ]
    }
   ],
   "source": [
    "print(node1.data)\n",
    "print(node1.left.data, node1.right.data)\n",
    "print(node1.left.left.data, node1.left.right.data, node1.right.left.data)"
   ]
  },
  {
   "cell_type": "code",
   "execution_count": 25,
   "id": "7f00e8c5",
   "metadata": {},
   "outputs": [],
   "source": [
    "# 함수로 정의 : 3가지 방법\n",
    "# 전위함수 : 현재 데이터 처리->왼쪽->오른쪽\n",
    "def preorder(node):\n",
    "    if node == None:\n",
    "        return\n",
    "    print(node.data, end=' -> ')\n",
    "#    node.process()\n",
    "    preorder(node.left)\n",
    "    preorder(node.right)\n",
    "    \n",
    "# 중위함수 : 왼쪽 데이터 처리->현재->오른쪽\n",
    "def inorder(node):\n",
    "    if node == None:\n",
    "        return\n",
    "    inorder(node.left)\n",
    "    print(node.data, end=' -> ')\n",
    "#    node.process()\n",
    "    inorder(node.right)\n",
    "    \n",
    "# 후위함수 : 왼쪽 데이터 처리->현재->오른쪽\n",
    "def postorder(node):\n",
    "    if node == None:\n",
    "        return\n",
    "    postorder(node.left)\n",
    "    postorder(node.right)\n",
    "    print(node.data, end=' -> ')\n",
    "#    node.process()"
   ]
  },
  {
   "cell_type": "code",
   "execution_count": 27,
   "id": "f96e6a73",
   "metadata": {},
   "outputs": [
    {
     "name": "stdout",
     "output_type": "stream",
     "text": [
      "전위 순회 ->  : 화사 -> 솔라 -> 휘인 -> 쯔위 -> 문별 -> 선미 -> end\n",
      "중위 순회 ->  : 휘인 -> 솔라 -> 쯔위 -> 화사 -> 선미 -> 문별 -> end\n",
      "후위 순회 ->  : 휘인 -> 쯔위 -> 솔라 -> 선미 -> 문별 -> 화사 -> end\n"
     ]
    }
   ],
   "source": [
    "print(\"전위 순회 -> \", end=' : ')\n",
    "preorder(node1)\n",
    "print(\"end\")\n",
    "\n",
    "print(\"중위 순회 -> \", end=' : ')\n",
    "inorder(node1)\n",
    "print(\"end\")\n",
    "\n",
    "print(\"후위 순회 -> \", end=' : ')\n",
    "postorder(node1)\n",
    "print(\"end\")"
   ]
  },
  {
   "cell_type": "code",
   "execution_count": 37,
   "id": "173cc03f",
   "metadata": {},
   "outputs": [],
   "source": [
    "# 순차 이진 트리 완성 --> insert_tree(new_node)\n",
    "class TreeNode:\n",
    "    def __init__(self):\n",
    "        self.left = None\n",
    "        self.data = None\n",
    "        self.right = None"
   ]
  },
  {
   "cell_type": "code",
   "execution_count": 33,
   "id": "b22f560e",
   "metadata": {},
   "outputs": [
    {
     "name": "stdout",
     "output_type": "stream",
     "text": [
      "블랙핑크 -> 레드벨벳 -> 걸스데이 -> 마마무 -> 트와이스 -> 에이핑크 -> 이진 검색 트리 완성  None\n"
     ]
    }
   ],
   "source": [
    "names = ['블랙핑크', '레드벨벳', '마마무', '걸스데이', '트와이스', '에이핑크']\n",
    "root = None\n",
    "node = TreeNode()\n",
    "node.data = names[0] # 블랙핑크로 root 지정\n",
    "root = node\n",
    "for name in names[1:]:\n",
    "    node = TreeNode()\n",
    "    node.data = name\n",
    "    \n",
    "    # 이진트리에 추가\n",
    "    curr_node = root\n",
    "    while True:\n",
    "        if name < curr_node.data: # add left\n",
    "            if curr_node.left == None:\n",
    "                curr_node.left = node\n",
    "                break\n",
    "            curr_node = curr_node.left\n",
    "        else:\n",
    "            if curr_node.right == None:\n",
    "                curr_node.right = node\n",
    "                break\n",
    "            curr_node = curr_node.right\n",
    "print(\"이진 검색 트리 완성 \", preorder(root))"
   ]
  },
  {
   "cell_type": "code",
   "execution_count": 63,
   "id": "1bd3ac1b",
   "metadata": {},
   "outputs": [],
   "source": [
    "def insert_tree(new_node):\n",
    "    global root\n",
    "    if root == None:\n",
    "        root = new_node\n",
    "        return\n",
    "    \n",
    "    node = root\n",
    "    while True:\n",
    "        if new_node.data < node.data: # add left\n",
    "            if node.left == None:\n",
    "                node.left = new_node\n",
    "                break\n",
    "            node = node.left\n",
    "        else:\n",
    "            if node.right == None:\n",
    "                node.right = new_node\n",
    "                break\n",
    "            node = node.right"
   ]
  },
  {
   "cell_type": "code",
   "execution_count": 47,
   "id": "1395055e",
   "metadata": {},
   "outputs": [
    {
     "name": "stdout",
     "output_type": "stream",
     "text": [
      "이름 > hh\n",
      "hh\n",
      "이름 > aa\n",
      "aa\n",
      "이름 > kk\n",
      "kk\n",
      "이름 > dd\n",
      "dd\n",
      "이름 > ss\n",
      "ss\n",
      "이름 > mm\n",
      "mm\n",
      "이름 > xx\n",
      "xx\n",
      "이름 > ee\n",
      "ee\n",
      "이름 > gg\n",
      "gg\n",
      "이름 > \n",
      "\n"
     ]
    }
   ],
   "source": [
    "root = None\n",
    "while True:\n",
    "    name = input(\"이름 > \")\n",
    "    print(name)\n",
    "    if name == '':\n",
    "        break\n",
    "    new_node = TreeNode()\n",
    "    new_node.data = name\n",
    "    insert_tree(new_node)"
   ]
  },
  {
   "cell_type": "code",
   "execution_count": 50,
   "id": "2b088944",
   "metadata": {},
   "outputs": [
    {
     "name": "stdout",
     "output_type": "stream",
     "text": [
      "hh -> aa -> dd -> ee -> gg -> kk -> ss -> mm -> xx -> 이진 검색 트리 완성  None\n"
     ]
    }
   ],
   "source": [
    " print(\"이진 검색 트리 완성 \", preorder(root))"
   ]
  },
  {
   "cell_type": "code",
   "execution_count": 73,
   "id": "1cc3a43a",
   "metadata": {},
   "outputs": [],
   "source": [
    "def insert_tree(new_node):\n",
    "    global root\n",
    "    if root == None:\n",
    "        root = new_node\n",
    "        return\n",
    "    \n",
    "    node = root\n",
    "    while True:\n",
    "        if new_node.data[0] < node.data[0]: # add left\n",
    "            if node.left == None:\n",
    "                node.left = new_node\n",
    "                break\n",
    "            node = node.left\n",
    "        else:\n",
    "            if node.right == None:\n",
    "                node.right = new_node\n",
    "                break\n",
    "            node = node.right\n",
    "\n",
    "def search(name):\n",
    "    global root\n",
    "    if root == None:\n",
    "        print(\"검색할 데이터가 없습니다.\")\n",
    "        return\n",
    "    cnt = 0\n",
    "    node = root\n",
    "    while True:\n",
    "        cnt += 1\n",
    "        if node.data[0] == name:\n",
    "            return cnt, node\n",
    "        else:\n",
    "            if name < node.data[0]:\n",
    "                if node.left == None:\n",
    "                    return cnt, None\n",
    "                node = node.left\n",
    "            else:\n",
    "                if node.right == None:\n",
    "                    return cnt, None\n",
    "                node = node.right"
   ]
  },
  {
   "cell_type": "code",
   "execution_count": 68,
   "id": "24057013",
   "metadata": {},
   "outputs": [],
   "source": [
    "import random\n",
    "\n",
    "rootBook, rootAuth = None, None\n",
    "bookAry = [ ['어린왕자', '쌩떽쥐베리'],['이방인', '까뮈'], ['부활', '톨스토이'],\n",
    "            ['신곡', '단테'], ['돈키호테', '세브반테스'], ['동물농장', '조지오웰'],\n",
    "            ['데미안','헤르만헤세'], ['파우스트', '괴테'], ['대지', '펄벅'] ]\n",
    "\n",
    "root = None\n",
    "random.shuffle(bookAry)\n",
    "# 책이름을 입력하면 작가를 출력 -> 몇회 만에 검색했는지 횟수 출력\n",
    "# 책이름으로 이진 트리 구성\n",
    "## 책 이름 및 작가 이름 검색 ##\n",
    "# bookOrAuth = int(input('책검색(1), 작가검색(2)-->'))\n",
    "# findName = input('검색할 책 또는 작가-->')"
   ]
  },
  {
   "cell_type": "code",
   "execution_count": 69,
   "id": "43209b5d",
   "metadata": {},
   "outputs": [],
   "source": [
    "for data in bookAry:\n",
    "    new_node = TreeNode()\n",
    "    new_node.data = data\n",
    "    insert_tree(new_node)"
   ]
  },
  {
   "cell_type": "code",
   "execution_count": null,
   "id": "7c466f7e",
   "metadata": {},
   "outputs": [
    {
     "name": "stdout",
     "output_type": "stream",
     "text": [
      "책이름 > 돈키호테\n",
      "돈키호테 : 세브반테스 -- 검색횟수 : 5\n",
      "책이름 > 책\n",
      "책 은 없음  -- 검색횟수 : 3\n"
     ]
    }
   ],
   "source": [
    "while True:\n",
    "    book = input(\"책이름 > \")\n",
    "    if book == '':\n",
    "        break\n",
    "    cnt, node = search(book)\n",
    "    if node!=None:\n",
    "        print(f'{node.data[0]} : {node.data[1]} -- 검색횟수 : {cnt}')\n",
    "    else:\n",
    "        print(f'{book} 은 없음  -- 검색횟수 : {cnt}')"
   ]
  },
  {
   "cell_type": "code",
   "execution_count": null,
   "id": "ea15ccfc",
   "metadata": {},
   "outputs": [],
   "source": []
  }
 ],
 "metadata": {
  "kernelspec": {
   "display_name": "Python 3 (ipykernel)",
   "language": "python",
   "name": "python3"
  },
  "language_info": {
   "codemirror_mode": {
    "name": "ipython",
    "version": 3
   },
   "file_extension": ".py",
   "mimetype": "text/x-python",
   "name": "python",
   "nbconvert_exporter": "python",
   "pygments_lexer": "ipython3",
   "version": "3.9.13"
  }
 },
 "nbformat": 4,
 "nbformat_minor": 5
}
