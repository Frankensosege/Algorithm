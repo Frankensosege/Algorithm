{
 "cells": [
  {
   "cell_type": "code",
   "execution_count": null,
   "id": "19c34703",
   "metadata": {},
   "outputs": [],
   "source": [
    "# stack 간단 구현\n",
    "# stack : FILO, LIFO -> 입구와 출구가 하나"
   ]
  },
  {
   "cell_type": "code",
   "execution_count": 6,
   "id": "568b4ce5",
   "metadata": {},
   "outputs": [
    {
     "name": "stdout",
     "output_type": "stream",
     "text": [
      "[None, None, None, None, None]\n",
      "None\n",
      "None\n",
      "None\n",
      "꿀물\n",
      "커피\n",
      "\n",
      "커피\n"
     ]
    }
   ],
   "source": [
    "stack = []\n",
    "for _ in range(5):  # stack 리스트에 5개 none 추가\n",
    "    stack.append(None)\n",
    "    \n",
    "print(stack)\n",
    "# stack의 자료의 위치 -> top = -1 초기화\n",
    "top = -1\n",
    "\n",
    "if top > len(stack) - 1 :\n",
    "    print(\"더이상 추가할 공간 없음\")\n",
    "else:\n",
    "# stack에 커피 추가\n",
    "    top += 1\n",
    "    stack[top] = '커피'\n",
    "    \n",
    "if top > len(stack) - 1 :\n",
    "    print(\"더이상 추가할 공간 없음\")\n",
    "else:\n",
    "# stack에 꿀물 추가\n",
    "    top += 1\n",
    "    stack[top] = '꿀물'\n",
    "    \n",
    "for i in range(len(stack)-1, -1, -1):\n",
    "    print(stack[i])\n",
    "print()\n",
    "for i in range(top-1, -1, -1):\n",
    "    print(stack[i])\n"
   ]
  },
  {
   "cell_type": "code",
   "execution_count": 9,
   "id": "e4d256c8",
   "metadata": {},
   "outputs": [],
   "source": [
    "def isStackFull():\n",
    "    global SIZE, top, stack\n",
    "    if top >= SIZE - 1:\n",
    "        return True\n",
    "    else:\n",
    "        return False\n",
    "    \n",
    "def isStackEmpty():\n",
    "    global top\n",
    "    if top == -1:\n",
    "        return True\n",
    "    else:\n",
    "        return False\n",
    "\n",
    "def stack_push(data):\n",
    "    global top, stack\n",
    "    if not isStackFull():\n",
    "        top += 1\n",
    "        stack[top] = data\n",
    "    else:\n",
    "        print(\"더이상 추가할 공간 없음\")\n",
    "    return\n",
    "\n",
    "def stack_pop():\n",
    "    global top, stack\n",
    "    if isStackEmpty():\n",
    "        print(\"자료 없음\")\n",
    "        return\n",
    "    data = stack[top]\n",
    "    stack[top] = None\n",
    "    top -= 1\n",
    "    return data"
   ]
  },
  {
   "cell_type": "code",
   "execution_count": 11,
   "id": "292faa6d",
   "metadata": {},
   "outputs": [
    {
     "name": "stdout",
     "output_type": "stream",
     "text": [
      "['0', '1', '2', '3', '4'] 4\n"
     ]
    }
   ],
   "source": [
    "# stack size\n",
    "SIZE = 5\n",
    "stack = [None for _ in range(SIZE)] # 리스트 컴프리핸션을 사용\n",
    "top = -1\n",
    "\n",
    "for i in range(SIZE):\n",
    "    stack_push(str(i))"
   ]
  },
  {
   "cell_type": "code",
   "execution_count": 14,
   "id": "7da65b2c",
   "metadata": {},
   "outputs": [
    {
     "name": "stdout",
     "output_type": "stream",
     "text": [
      "[None, None, None, None, None] -1\n",
      "kk\n",
      "자료 없음\n"
     ]
    }
   ],
   "source": [
    "print(stack, top)\n",
    "stack_push('kk')\n",
    "\n",
    "for _ in range(top, -1, -1):\n",
    "    print(stack_pop())\n",
    "    \n",
    "stack_pop()"
   ]
  },
  {
   "cell_type": "code",
   "execution_count": null,
   "id": "d8457cf0",
   "metadata": {},
   "outputs": [],
   "source": [
    "# 스택 사이즈 입력\n",
    "# 1. 입력 사이즈 만큼 리스트 생성 -> 최기값 None\n",
    "# 2. 메뉴 (1:삽입, 2:추출, 3:리스트, 4:종료)\n",
    "# 3. push, pop, list() 함수 구현\n",
    "\n",
    "def isStackFull():\n",
    "    global stack_size, top\n",
    "    if top >= stack_size - 1:\n",
    "        return True\n",
    "    else:\n",
    "        return False\n",
    "    \n",
    "def isStackEmpty():\n",
    "    if top == -1:\n",
    "        return True\n",
    "    else:\n",
    "        return False\n",
    "    \n",
    "def peek():\n",
    "    if isStackEmpty():\n",
    "        print(\"자료 없음\")\n",
    "        return\n",
    "    return stack[top]\n",
    "    \n",
    "def stack_push(data):\n",
    "    global stack, top\n",
    "    if isStackFull():\n",
    "        print(\"추가할 공간이 없음\")\n",
    "        return\n",
    "    top += 1\n",
    "    stack[top] = data\n",
    "    return\n",
    "\n",
    "def stack_pop():\n",
    "    global stack, top\n",
    "    if isStackEmpty():\n",
    "        print(\"자료 없음\")\n",
    "        return\n",
    "    \n",
    "    data = stack[top]\n",
    "    stack[top] = None\n",
    "    top -= 1\n",
    "    return data\n",
    "\n",
    "def stack_list():\n",
    "    global stack, top\n",
    "    if top == -1:\n",
    "        print(\"자료 없음\")\n",
    "        return\n",
    "    for i in range(top, -1, -1):\n",
    "        print(stack[i])"
   ]
  },
  {
   "cell_type": "code",
   "execution_count": null,
   "id": "ad30e1ed",
   "metadata": {},
   "outputs": [
    {
     "name": "stdout",
     "output_type": "stream",
     "text": [
      "스택의 크기를 입력 > 1\n",
      "1:삽입, 2:추출, 3:리스트, 4:종료 > d\n",
      "1:삽입, 2:추출, 3:리스트, 4:종료 > 1\n",
      "자료 입력 > f\n",
      "1:삽입, 2:추출, 3:리스트, 4:종료 > 1\n",
      "자료 입력 > f\n",
      "추가할 공간이 없음\n",
      "1:삽입, 2:추출, 3:리스트, 4:종료 > 3\n",
      "1:삽입, 2:추출, 3:리스트, 4:종료 > 3\n",
      "1:삽입, 2:추출, 3:리스트, 4:종료 > 3\n",
      "1:삽입, 2:추출, 3:리스트, 4:종료 > \n",
      "1:삽입, 2:추출, 3:리스트, 4:종료 > 2\n",
      "f\n",
      "1:삽입, 2:추출, 3:리스트, 4:종료 > 2\n",
      "자료 없음\n",
      "None\n"
     ]
    }
   ],
   "source": [
    "menu = \"1:삽입, 2:추출, 3:마지막자료 보여 주기, 4:리스트, 5:종료 > \"\n",
    "stack = []\n",
    "top = -1\n",
    "stack_size = input(\"스택의 크기를 입력 > \")\n",
    "if stack_size.isdecimal():\n",
    "    stack_size = int(stack_size)\n",
    "    stack = [None for _ in range(stack_size)]\n",
    "    \n",
    "while True:\n",
    "    act = input(menu)\n",
    "    if act == '1':\n",
    "        data = input(\"자료 입력 > \")\n",
    "        stack_push(data)\n",
    "    elif act == '2':\n",
    "        print(stack_pop())\n",
    "    elif act == '3':\n",
    "        stack_list()\n",
    "    elif act == '4':\n",
    "        stack_list()\n",
    "    elif act == '5':\n",
    "        break\n",
    "    "
   ]
  }
 ],
 "metadata": {
  "kernelspec": {
   "display_name": "Python 3 (ipykernel)",
   "language": "python",
   "name": "python3"
  },
  "language_info": {
   "codemirror_mode": {
    "name": "ipython",
    "version": 3
   },
   "file_extension": ".py",
   "mimetype": "text/x-python",
   "name": "python",
   "nbconvert_exporter": "python",
   "pygments_lexer": "ipython3",
   "version": "3.9.13"
  }
 },
 "nbformat": 4,
 "nbformat_minor": 5
}
