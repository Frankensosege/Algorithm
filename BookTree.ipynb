{
 "cells": [
  {
   "cell_type": "code",
   "execution_count": 11,
   "id": "464c98d0",
   "metadata": {},
   "outputs": [],
   "source": [
    "class TreeNode:\n",
    "    def __init__(self):\n",
    "        self.left = None\n",
    "        self.data = None\n",
    "        self.right = None\n",
    "        \n",
    "def preorder(node):\n",
    "    if node == None:\n",
    "        return\n",
    "    print(node.data, end=' -> ')\n",
    "#    node.process()\n",
    "    preorder(node.left)\n",
    "    preorder(node.right)\n",
    "    \n",
    "# 중위함수 : 왼쪽 데이터 처리->현재->오른쪽\n",
    "def inorder(node):\n",
    "    if node == None:\n",
    "        return\n",
    "    inorder(node.left)\n",
    "    print(node.data, end=' -> ')\n",
    "#    node.process()\n",
    "    inorder(node.right)\n",
    "    \n",
    "# 후위함수 : 왼쪽 데이터 처리->현재->오른쪽\n",
    "def postorder(node):\n",
    "    if node == None:\n",
    "        return\n",
    "    postorder(node.left)\n",
    "    postorder(node.right)\n",
    "    print(node.data, end=' -> ')\n",
    "#    node.process()\n",
    "\n",
    "def insert_tree(new_node):\n",
    "    global root\n",
    "    if root == None:\n",
    "        root = new_node\n",
    "        return\n",
    "    \n",
    "    node = root\n",
    "    while True:\n",
    "        if new_node.data[0] < node.data[0]: # add left\n",
    "            if node.left == None:\n",
    "                node.left = new_node\n",
    "                break\n",
    "            node = node.left\n",
    "        else:\n",
    "            if node.right == None:\n",
    "                node.right = new_node\n",
    "                break\n",
    "            node = node.right\n",
    "\n",
    "def search(name):\n",
    "    global root\n",
    "    if root == None:\n",
    "        print(\"검색할 데이터가 없습니다.\")\n",
    "        return\n",
    "    cnt = 0\n",
    "    node = root\n",
    "    while True:\n",
    "        cnt += 1\n",
    "        if node.data[0] == name:\n",
    "            return cnt, node\n",
    "        else:\n",
    "            if name < node.data[0]:\n",
    "                if node.left == None:\n",
    "                    return cnt, None\n",
    "                node = node.left\n",
    "            else:\n",
    "                if node.right == None:\n",
    "                    return cnt, None\n",
    "                node = node.right"
   ]
  },
  {
   "cell_type": "code",
   "execution_count": 8,
   "id": "fccc4eaa",
   "metadata": {},
   "outputs": [],
   "source": [
    "import random\n",
    "\n",
    "rootBook, rootAuth = None, None\n",
    "bookAry = [ ['어린왕자', '쌩떽쥐베리'],['이방인', '까뮈'], ['부활', '톨스토이'],\n",
    "            ['신곡', '단테'], ['돈키호테', '세브반테스'], ['동물농장', '조지오웰'],\n",
    "            ['데미안','헤르만헤세'], ['파우스트', '괴테'], ['대지', '펄벅'] ]\n",
    "\n",
    "root = None\n",
    "random.shuffle(bookAry)\n",
    "# 책이름을 입력하면 작가를 출력 -> 몇회 만에 검색했는지 횟수 출력\n",
    "# 책이름으로 이진 트리 구성"
   ]
  },
  {
   "cell_type": "code",
   "execution_count": 13,
   "id": "152ac5bd",
   "metadata": {},
   "outputs": [
    {
     "name": "stdout",
     "output_type": "stream",
     "text": [
      "['돈키호테', '세브반테스'] -> ['데미안', '헤르만헤세'] -> ['대지', '펄벅'] -> ['대지', '펄벅'] -> ['대지', '펄벅'] -> ['데미안', '헤르만헤세'] -> ['데미안', '헤르만헤세'] -> ['이방인', '까뮈'] -> ['신곡', '단테'] -> ['동물농장', '조지오웰'] -> ['돈키호테', '세브반테스'] -> ['돈키호테', '세브반테스'] -> ['부활', '톨스토이'] -> ['동물농장', '조지오웰'] -> ['동물농장', '조지오웰'] -> ['부활', '톨스토이'] -> ['부활', '톨스토이'] -> ['어린왕자', '쌩떽쥐베리'] -> ['신곡', '단테'] -> ['신곡', '단테'] -> ['어린왕자', '쌩떽쥐베리'] -> ['어린왕자', '쌩떽쥐베리'] -> ['파우스트', '괴테'] -> ['이방인', '까뮈'] -> ['이방인', '까뮈'] -> ['파우스트', '괴테'] -> ['파우스트', '괴테'] -> "
     ]
    }
   ],
   "source": [
    "for data in bookAry:\n",
    "    new_node = TreeNode()\n",
    "    new_node.data = data\n",
    "    insert_tree(new_node)\n",
    "    \n",
    "preorder(root)"
   ]
  },
  {
   "cell_type": "code",
   "execution_count": 14,
   "id": "7b0d54fd",
   "metadata": {},
   "outputs": [
    {
     "name": "stdout",
     "output_type": "stream",
     "text": [
      "책이름 > 이방인\n",
      "이방인 : 까뮈 -- 검색횟수 : 2\n",
      "책이름 > hhh\n",
      "hhh 은 없음  -- 검색횟수 : 3\n",
      "책이름 > \n"
     ]
    }
   ],
   "source": [
    "while True:\n",
    "    book = input(\"책이름 > \")\n",
    "    if book == '':\n",
    "        break\n",
    "    cnt, node = search(book)\n",
    "    if node!=None:\n",
    "        print(f'{node.data[0]} : {node.data[1]} -- 검색횟수 : {cnt}')\n",
    "    else:\n",
    "        print(f'{book} 은 없음  -- 검색횟수 : {cnt}')"
   ]
  }
 ],
 "metadata": {
  "kernelspec": {
   "display_name": "Python 3 (ipykernel)",
   "language": "python",
   "name": "python3"
  },
  "language_info": {
   "codemirror_mode": {
    "name": "ipython",
    "version": 3
   },
   "file_extension": ".py",
   "mimetype": "text/x-python",
   "name": "python",
   "nbconvert_exporter": "python",
   "pygments_lexer": "ipython3",
   "version": "3.9.13"
  }
 },
 "nbformat": 4,
 "nbformat_minor": 5
}
