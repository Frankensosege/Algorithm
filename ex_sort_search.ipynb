{
 "cells": [
  {
   "cell_type": "code",
   "execution_count": 1,
   "id": "3d38f938",
   "metadata": {},
   "outputs": [],
   "source": [
    "dataAry = ['바나나맛우유', '레쓰비캔커피', '츄파춥스', '도시락', '삼다수', '코카콜라', '삼각김밥']"
   ]
  },
  {
   "cell_type": "code",
   "execution_count": 10,
   "id": "cfea1f78",
   "metadata": {},
   "outputs": [],
   "source": [
    "def QuickSort(arr, start, end):\n",
    "    if end <= start:\n",
    "        return\n",
    "    low = start\n",
    "    high = end\n",
    "#    pivot = arr[(low + high)//2] # (high - low) // 2 + low\n",
    "    pivot = arr[(high - low) // 2 + low]\n",
    "    while low <= high:\n",
    "        while arr[low] < pivot:\n",
    "            low += 1\n",
    "        \n",
    "        while arr[high] > pivot:\n",
    "            high -= 1\n",
    "        if low <= high:\n",
    "            arr[low], arr[high] = arr[high], arr[low]\n",
    "            low, high = low + 1, high - 1\n",
    "    mid = low\n",
    "    QuickSort(arr, start, mid-1)\n",
    "    QuickSort(arr, mid, end)\n",
    "    \n",
    "def binary_search(arr, f_data):\n",
    "    start = 0\n",
    "    end = len(arr) - 1\n",
    "    while start <= end:\n",
    "        mid = (start + end) // 2\n",
    "        if arr[mid][0] == f_data:\n",
    "            return mid\n",
    "        elif arr[mid][0] > f_data:\n",
    "            end = mid -1            \n",
    "        else:\n",
    "            start = mid + 1\n",
    "    return -1"
   ]
  },
  {
   "cell_type": "code",
   "execution_count": 16,
   "id": "4d57ed6f",
   "metadata": {},
   "outputs": [
    {
     "name": "stdout",
     "output_type": "stream",
     "text": [
      "\n",
      "----- 오늘 판매된 전체 물건 ------\n",
      "['코카콜라', '삼다수', '도시락', '도시락', '바나나맛우유', '코카콜라', '레쓰비캔커피', '코카콜라', '삼각김밥', '레쓰비캔커피', '삼다수', '삼각김밥', '삼다수', '도시락', '삼다수', '삼각김밥', '코카콜라', '츄파춥스', '바나나맛우유', '바나나맛우유']\n",
      "\n",
      "----- 오늘 판매된 전체 물건 (정렬)------\n",
      "['도시락', '도시락', '도시락', '레쓰비캔커피', '레쓰비캔커피', '바나나맛우유', '바나나맛우유', '바나나맛우유', '삼각김밥', '삼각김밥', '삼각김밥', '삼다수', '삼다수', '삼다수', '삼다수', '츄파춥스', '코카콜라', '코카콜라', '코카콜라', '코카콜라']\n",
      "\n",
      "----- 오늘 판매된 전체 물건 종류 ------\n",
      "도시락\n",
      "레쓰비캔커피\n",
      "바나나맛우유\n",
      "삼각김밥\n",
      "삼다수\n",
      "츄파춥스\n",
      "코카콜라\n",
      "\n",
      "----- 오늘 판매된 전체 수량 ------\n",
      "[['도시락', 3], ['레쓰비캔커피', 2], ['바나나맛우유', 3], ['삼각김밥', 3], ['삼다수', 4], ['츄파춥스', 1], ['코카콜라', 4]]\n",
      "\n",
      "----- --------- ------\n",
      "도시락 : 3\n",
      "레쓰비캔커피 : 2\n",
      "바나나맛우유 : 3\n",
      "삼각김밥 : 3\n",
      "삼다수 : 4\n",
      "츄파춥스 : 1\n",
      "코카콜라 : 4\n"
     ]
    }
   ],
   "source": [
    "import random\n",
    "# 오늘 판매된 전체 물건 -> 중복허용, 정렬 안됨\n",
    "print()\n",
    "print(\"----- 오늘 판매된 전체 물건 ------\")\n",
    "tody_sale = random.choices(dataAry, k=20)\n",
    "print(tody_sale)\n",
    "# 오늘 판매된 전체 물건 -> 중복허용, 정렬\n",
    "print()\n",
    "print(\"----- 오늘 판매된 전체 물건 (정렬)------\")\n",
    "tody_sale_sort = tody_sale.copy()\n",
    "QuickSort(tody_sale_sort, 0, len(tody_sale_sort) -1)\n",
    "print(tody_sale_sort)\n",
    "\n",
    "sales_list = []\n",
    "\n",
    "for item in tody_sale_sort:\n",
    "    idx = binary_search(sales_list, item)\n",
    "    if idx == -1:\n",
    "        sales_list.append([item, 1])\n",
    "    else:\n",
    "        sales_list[idx][1] += 1\n",
    "# 오늘 판매된 전체 물건 종류 -> 중복허용안함\n",
    "# sales_list = list(set(sales_list))\n",
    "print()\n",
    "print(\"----- 오늘 판매된 전체 물건 종류 ------\")\n",
    "for itm in sales_list:\n",
    "    print(itm[0])\n",
    "    \n",
    "print()\n",
    "print(\"----- 오늘 판매된 전체 수량 ------\")\n",
    "print(sales_list)\n",
    "# 결산 결과 -> '바나나 맛 우유' : 2개\n",
    "print()\n",
    "print(\"----- --------- ------\")\n",
    "for itm in sales_list:\n",
    "    print(f'{itm[0]} : {tody_sale_sort.count(itm[0])}')"
   ]
  }
 ],
 "metadata": {
  "kernelspec": {
   "display_name": "Python 3 (ipykernel)",
   "language": "python",
   "name": "python3"
  },
  "language_info": {
   "codemirror_mode": {
    "name": "ipython",
    "version": 3
   },
   "file_extension": ".py",
   "mimetype": "text/x-python",
   "name": "python",
   "nbconvert_exporter": "python",
   "pygments_lexer": "ipython3",
   "version": "3.9.13"
  }
 },
 "nbformat": 4,
 "nbformat_minor": 5
}
