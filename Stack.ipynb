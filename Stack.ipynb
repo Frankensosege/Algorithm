{
 "cells": [
  {
   "cell_type": "code",
   "execution_count": null,
   "id": "ff9bb770",
   "metadata": {},
   "outputs": [],
   "source": [
    "# stack 간단 구현\n",
    "# stack : FILO, LIFO -> 입구와 출구가 하나"
   ]
  },
  {
   "cell_type": "code",
   "execution_count": 6,
   "id": "5ba49408",
   "metadata": {},
   "outputs": [
    {
     "name": "stdout",
     "output_type": "stream",
     "text": [
      "[None, None, None, None, None]\n",
      "None\n",
      "None\n",
      "None\n",
      "꿀물\n",
      "커피\n",
      "\n",
      "커피\n"
     ]
    }
   ],
   "source": [
    "stack = []\n",
    "for _ in range(5):  # stack 리스트에 5개 none 추가\n",
    "    stack.append(None)\n",
    "    \n",
    "print(stack)\n",
    "# stack의 자료의 위치 -> top = -1 초기화\n",
    "top = -1\n",
    "\n",
    "if top > len(stack) - 1 :\n",
    "    print(\"더이상 추가할 공간 없음\")\n",
    "else:\n",
    "# stack에 커피 추가\n",
    "    top += 1\n",
    "    stack[top] = '커피'\n",
    "    \n",
    "if top > len(stack) - 1 :\n",
    "    print(\"더이상 추가할 공간 없음\")\n",
    "else:\n",
    "# stack에 꿀물 추가\n",
    "    top += 1\n",
    "    stack[top] = '꿀물'\n",
    "    \n",
    "for i in range(len(stack)-1, -1, -1):\n",
    "    print(stack[i])\n",
    "print()\n",
    "for i in range(top-1, -1, -1):\n",
    "    print(stack[i])\n"
   ]
  },
  {
   "cell_type": "code",
   "execution_count": 9,
   "id": "e6e355df",
   "metadata": {},
   "outputs": [],
   "source": [
    "def isStackFull():\n",
    "    global SIZE, top, stack\n",
    "    if top >= SIZE - 1:\n",
    "        return True\n",
    "    else:\n",
    "        return False\n",
    "    \n",
    "def isStackEmpty():\n",
    "    global top\n",
    "    if top == -1:\n",
    "        return True\n",
    "    else:\n",
    "        return False\n",
    "\n",
    "def stack_push(data):\n",
    "    global top, stack\n",
    "    if not isStackFull():\n",
    "        top += 1\n",
    "        stack[top] = data\n",
    "    else:\n",
    "        print(\"더이상 추가할 공간 없음\")\n",
    "    return\n",
    "\n",
    "def stack_pop():\n",
    "    global top, stack\n",
    "    if isStackEmpty():\n",
    "        print(\"자료 없음\")\n",
    "        return\n",
    "    data = stack[top]\n",
    "    stack[top] = None\n",
    "    top -= 1\n",
    "    return data"
   ]
  },
  {
   "cell_type": "code",
   "execution_count": 11,
   "id": "0c997a1b",
   "metadata": {},
   "outputs": [
    {
     "name": "stdout",
     "output_type": "stream",
     "text": [
      "['0', '1', '2', '3', '4'] 4\n"
     ]
    }
   ],
   "source": [
    "# stack size\n",
    "SIZE = 5\n",
    "stack = [None for _ in range(SIZE)] # 리스트 컴프리핸션을 사용\n",
    "top = -1\n",
    "\n",
    "for i in range(SIZE):\n",
    "    stack_push(str(i))"
   ]
  },
  {
   "cell_type": "code",
   "execution_count": 14,
   "id": "6e0f86fb",
   "metadata": {},
   "outputs": [
    {
     "name": "stdout",
     "output_type": "stream",
     "text": [
      "[None, None, None, None, None] -1\n",
      "kk\n",
      "자료 없음\n"
     ]
    }
   ],
   "source": [
    "print(stack, top)\n",
    "stack_push('kk')\n",
    "\n",
    "for _ in range(top, -1, -1):\n",
    "    print(stack_pop())\n",
    "    \n",
    "stack_pop()"
   ]
  },
  {
   "cell_type": "code",
   "execution_count": null,
   "id": "32c5820d",
   "metadata": {},
   "outputs": [],
   "source": [
    "# 스택 사이즈 입력\n",
    "# 1. 입력 사이즈 만큼 리스트 생성 -> 최기값 None\n",
    "# 2. 메뉴 (1:삽입, 2:추출, 3:리스트, 4:종료)\n",
    "# 3. push, pop, list() 함수 구현\n",
    "\n",
    "def isStackFull():\n",
    "    global stack_size, top\n",
    "    if top >= stack_size - 1:\n",
    "        return True\n",
    "    else:\n",
    "        return False\n",
    "    \n",
    "def isStackEmpty():\n",
    "    if top == -1:\n",
    "        return True\n",
    "    else:\n",
    "        return False\n",
    "    \n",
    "def peek():\n",
    "    if isStackEmpty():\n",
    "        print(\"자료 없음\")\n",
    "        return\n",
    "    return stack[top]\n",
    "    \n",
    "def stack_push(data):\n",
    "    global stack, top\n",
    "    if isStackFull():\n",
    "        print(\"추가할 공간이 없음\")\n",
    "        return\n",
    "    top += 1\n",
    "    stack[top] = data\n",
    "    return\n",
    "\n",
    "def stack_pop():\n",
    "    global stack, top\n",
    "    if isStackEmpty():\n",
    "        print(\"자료 없음\")\n",
    "        return\n",
    "    \n",
    "    data = stack[top]\n",
    "    stack[top] = None\n",
    "    top -= 1\n",
    "    return data\n",
    "\n",
    "def stack_list():\n",
    "    global stack, top\n",
    "    if top == -1:\n",
    "        print(\"자료 없음\")\n",
    "        return\n",
    "    for i in range(top, -1, -1):\n",
    "        print(stack[i])"
   ]
  },
  {
   "cell_type": "code",
   "execution_count": 24,
   "id": "bb9b3107",
   "metadata": {},
   "outputs": [
    {
     "name": "stdout",
     "output_type": "stream",
     "text": [
      "스택의 크기를 입력 > 1\n",
      "1:삽입, 2:추출, 3:리스트, 4:종료 > d\n",
      "1:삽입, 2:추출, 3:리스트, 4:종료 > 1\n",
      "자료 입력 > f\n",
      "1:삽입, 2:추출, 3:리스트, 4:종료 > 1\n",
      "자료 입력 > f\n",
      "추가할 공간이 없음\n",
      "1:삽입, 2:추출, 3:리스트, 4:종료 > 3\n",
      "1:삽입, 2:추출, 3:리스트, 4:종료 > 3\n",
      "1:삽입, 2:추출, 3:리스트, 4:종료 > 3\n",
      "1:삽입, 2:추출, 3:리스트, 4:종료 > \n",
      "1:삽입, 2:추출, 3:리스트, 4:종료 > 2\n",
      "f\n",
      "1:삽입, 2:추출, 3:리스트, 4:종료 > 2\n",
      "자료 없음\n",
      "None\n"
     ]
    },
    {
     "ename": "KeyboardInterrupt",
     "evalue": "Interrupted by user",
     "output_type": "error",
     "traceback": [
      "\u001b[1;31m---------------------------------------------------------------------------\u001b[0m",
      "\u001b[1;31mKeyboardInterrupt\u001b[0m                         Traceback (most recent call last)",
      "\u001b[1;32m~\\AppData\\Local\\Temp\\ipykernel_6868\\1429349070.py\u001b[0m in \u001b[0;36m<module>\u001b[1;34m\u001b[0m\n\u001b[0;32m      8\u001b[0m \u001b[1;33m\u001b[0m\u001b[0m\n\u001b[0;32m      9\u001b[0m \u001b[1;32mwhile\u001b[0m \u001b[1;32mTrue\u001b[0m\u001b[1;33m:\u001b[0m\u001b[1;33m\u001b[0m\u001b[1;33m\u001b[0m\u001b[0m\n\u001b[1;32m---> 10\u001b[1;33m     \u001b[0mact\u001b[0m \u001b[1;33m=\u001b[0m \u001b[0minput\u001b[0m\u001b[1;33m(\u001b[0m\u001b[0mmenu\u001b[0m\u001b[1;33m)\u001b[0m\u001b[1;33m\u001b[0m\u001b[1;33m\u001b[0m\u001b[0m\n\u001b[0m\u001b[0;32m     11\u001b[0m     \u001b[1;32mif\u001b[0m \u001b[0mact\u001b[0m \u001b[1;33m==\u001b[0m \u001b[1;34m'1'\u001b[0m\u001b[1;33m:\u001b[0m\u001b[1;33m\u001b[0m\u001b[1;33m\u001b[0m\u001b[0m\n\u001b[0;32m     12\u001b[0m         \u001b[0mdata\u001b[0m \u001b[1;33m=\u001b[0m \u001b[0minput\u001b[0m\u001b[1;33m(\u001b[0m\u001b[1;34m\"자료 입력 > \"\u001b[0m\u001b[1;33m)\u001b[0m\u001b[1;33m\u001b[0m\u001b[1;33m\u001b[0m\u001b[0m\n",
      "\u001b[1;32mC:\\ProgramData\\Anaconda3\\lib\\site-packages\\ipykernel\\kernelbase.py\u001b[0m in \u001b[0;36mraw_input\u001b[1;34m(self, prompt)\u001b[0m\n\u001b[0;32m   1175\u001b[0m                 \u001b[1;34m\"raw_input was called, but this frontend does not support input requests.\"\u001b[0m\u001b[1;33m\u001b[0m\u001b[1;33m\u001b[0m\u001b[0m\n\u001b[0;32m   1176\u001b[0m             )\n\u001b[1;32m-> 1177\u001b[1;33m         return self._input_request(\n\u001b[0m\u001b[0;32m   1178\u001b[0m             \u001b[0mstr\u001b[0m\u001b[1;33m(\u001b[0m\u001b[0mprompt\u001b[0m\u001b[1;33m)\u001b[0m\u001b[1;33m,\u001b[0m\u001b[1;33m\u001b[0m\u001b[1;33m\u001b[0m\u001b[0m\n\u001b[0;32m   1179\u001b[0m             \u001b[0mself\u001b[0m\u001b[1;33m.\u001b[0m\u001b[0m_parent_ident\u001b[0m\u001b[1;33m[\u001b[0m\u001b[1;34m\"shell\"\u001b[0m\u001b[1;33m]\u001b[0m\u001b[1;33m,\u001b[0m\u001b[1;33m\u001b[0m\u001b[1;33m\u001b[0m\u001b[0m\n",
      "\u001b[1;32mC:\\ProgramData\\Anaconda3\\lib\\site-packages\\ipykernel\\kernelbase.py\u001b[0m in \u001b[0;36m_input_request\u001b[1;34m(self, prompt, ident, parent, password)\u001b[0m\n\u001b[0;32m   1217\u001b[0m             \u001b[1;32mexcept\u001b[0m \u001b[0mKeyboardInterrupt\u001b[0m\u001b[1;33m:\u001b[0m\u001b[1;33m\u001b[0m\u001b[1;33m\u001b[0m\u001b[0m\n\u001b[0;32m   1218\u001b[0m                 \u001b[1;31m# re-raise KeyboardInterrupt, to truncate traceback\u001b[0m\u001b[1;33m\u001b[0m\u001b[1;33m\u001b[0m\u001b[0m\n\u001b[1;32m-> 1219\u001b[1;33m                 \u001b[1;32mraise\u001b[0m \u001b[0mKeyboardInterrupt\u001b[0m\u001b[1;33m(\u001b[0m\u001b[1;34m\"Interrupted by user\"\u001b[0m\u001b[1;33m)\u001b[0m \u001b[1;32mfrom\u001b[0m \u001b[1;32mNone\u001b[0m\u001b[1;33m\u001b[0m\u001b[1;33m\u001b[0m\u001b[0m\n\u001b[0m\u001b[0;32m   1220\u001b[0m             \u001b[1;32mexcept\u001b[0m \u001b[0mException\u001b[0m\u001b[1;33m:\u001b[0m\u001b[1;33m\u001b[0m\u001b[1;33m\u001b[0m\u001b[0m\n\u001b[0;32m   1221\u001b[0m                 \u001b[0mself\u001b[0m\u001b[1;33m.\u001b[0m\u001b[0mlog\u001b[0m\u001b[1;33m.\u001b[0m\u001b[0mwarning\u001b[0m\u001b[1;33m(\u001b[0m\u001b[1;34m\"Invalid Message:\"\u001b[0m\u001b[1;33m,\u001b[0m \u001b[0mexc_info\u001b[0m\u001b[1;33m=\u001b[0m\u001b[1;32mTrue\u001b[0m\u001b[1;33m)\u001b[0m\u001b[1;33m\u001b[0m\u001b[1;33m\u001b[0m\u001b[0m\n",
      "\u001b[1;31mKeyboardInterrupt\u001b[0m: Interrupted by user"
     ]
    }
   ],
   "source": [
    "menu = \"1:삽입, 2:추출, 3:마지막자료 보여 주기, 4:리스트, 5:종료 > \"\n",
    "stack = []\n",
    "top = -1\n",
    "stack_size = input(\"스택의 크기를 입력 > \")\n",
    "if stack_size.isdecimal():\n",
    "    stack_size = int(stack_size)\n",
    "    stack = [None for _ in range(stack_size)]\n",
    "    \n",
    "while True:\n",
    "    act = input(menu)\n",
    "    if act == '1':\n",
    "        data = input(\"자료 입력 > \")\n",
    "        stack_push(data)\n",
    "    elif act == '2':\n",
    "        print(stack_pop())\n",
    "    elif act == '3':\n",
    "        stack_list()\n",
    "    elif act == '4':\n",
    "        stack_list()\n",
    "    elif act == '5':\n",
    "        break\n",
    "    "
   ]
  },
  {
   "cell_type": "code",
   "execution_count": 63,
   "id": "bad0174a",
   "metadata": {},
   "outputs": [],
   "source": [
    "def isFull():\n",
    "    global size\n",
    "    if top >= size - 1:\n",
    "        return True\n",
    "    else:\n",
    "        return False\n",
    "    \n",
    "def isEmpty():\n",
    "    global top\n",
    "    if top == -1:\n",
    "        return True\n",
    "    else:\n",
    "        return False\n",
    "    \n",
    "def peek():\n",
    "    if isStackEmpty():\n",
    "        print(\"자료 없음\")\n",
    "        return\n",
    "    return stack[top]\n",
    "    \n",
    "def push(data):\n",
    "    global stack, top\n",
    "    if isFull():\n",
    "        print(\"추가할 공간이 없음\")\n",
    "        return\n",
    "    top += 1\n",
    "    stack[top] = data\n",
    "\n",
    "def pop():\n",
    "    global stack, top\n",
    "    if isEmpty():\n",
    "        print(\"자료 없음\")\n",
    "        return\n",
    "    \n",
    "    data = stack[top]\n",
    "    stack[top] = None\n",
    "    top -= 1\n",
    "    return data"
   ]
  },
  {
   "cell_type": "code",
   "execution_count": 31,
   "id": "0e1ded76",
   "metadata": {},
   "outputs": [],
   "source": [
    "import webbrowser\n",
    "import time\n",
    "\n",
    "size = 100\n",
    "stack = [None for _ in range(size)]\n",
    "top = -1"
   ]
  },
  {
   "cell_type": "code",
   "execution_count": 36,
   "id": "66e03e38",
   "metadata": {},
   "outputs": [
    {
     "name": "stdout",
     "output_type": "stream",
     "text": [
      "naver.com->nate.com->daum.net->방문 종료\n"
     ]
    }
   ],
   "source": [
    "urls = ['naver.com', 'nate.com', 'daum.net']\n",
    "# url의 각요소를 stack에 저장\n",
    "for url in urls:\n",
    "    push(url)\n",
    "    webbrowser.open(\"http://\" + url)\n",
    "    print(url, end='->')\n",
    "    time.sleep(1)\n",
    "    \n",
    "print(\"방문 종료\")"
   ]
  },
  {
   "cell_type": "code",
   "execution_count": 37,
   "id": "1821e770",
   "metadata": {},
   "outputs": [
    {
     "name": "stdout",
     "output_type": "stream",
     "text": [
      "daum.net->nate.com->naver.com->자료 없음\n",
      "방문 종료\n"
     ]
    }
   ],
   "source": [
    "while True:\n",
    "    url = pop()\n",
    "    if url == None:\n",
    "        break\n",
    "        \n",
    "    webbrowser.open(\"http://\" + url)\n",
    "    print(url, end='->')\n",
    "    time.sleep(1)\n",
    "print(\"방문 종료\")"
   ]
  },
  {
   "cell_type": "code",
   "execution_count": 43,
   "id": "0c3dba9d",
   "metadata": {},
   "outputs": [],
   "source": [
    "def checkBracket(exp):\n",
    "    for c in exp:\n",
    "        if c in '([{<':\n",
    "            push(c)\n",
    "        elif c in '}])>':\n",
    "            if isEmpty():\n",
    "                return False\n",
    "            d = pop()\n",
    "            if c == ')' and  d == '(':\n",
    "                pass\n",
    "            elif c == '}' and  d == '{':\n",
    "                pass\n",
    "            elif c == ']' and  d == '[':\n",
    "                pass\n",
    "            elif c == '>' and  d == '<':\n",
    "                pass\n",
    "            else:\n",
    "                return False\n",
    "            \n",
    "    if isEmpty():\n",
    "        return True\n",
    "    else:\n",
    "        return False"
   ]
  },
  {
   "cell_type": "code",
   "execution_count": 47,
   "id": "42bc0fcb",
   "metadata": {},
   "outputs": [
    {
     "name": "stdout",
     "output_type": "stream",
     "text": [
      "(A+B)  :  True\n",
      ")A+B(  :  False\n",
      "((A+B) - C  :  False\n",
      "(A+B]  :  False\n",
      "(<a+{b-c}/[c*d]>)  :  True\n"
     ]
    }
   ],
   "source": [
    "size = 100\n",
    "stack = [None for _ in range(size)]\n",
    "\n",
    "exparr = ['(A+B)', ')A+B(', '((A+B) - C', '(A+B]', '(<a+{b-c}/[c*d]>)']\n",
    "for exp in exparr:\n",
    "    top = -1\n",
    "    print(exp, ' : ', checkBracket(exp))\n",
    "    \n",
    "    "
   ]
  },
  {
   "cell_type": "code",
   "execution_count": 69,
   "id": "92aaafcf",
   "metadata": {},
   "outputs": [
    {
     "name": "stdout",
     "output_type": "stream",
     "text": [
      ".다리오리드 내보 이고 이없말\n",
      "는에때 실가\n",
      "워겨역 가기보 나\n",
      "꽃래달진"
     ]
    }
   ],
   "source": [
    "size = 100\n",
    "stack = [None for _ in range(size)]\n",
    "top = -1\n",
    "\n",
    "with open('stack.txt', 'r', encoding='utf8') as file:\n",
    "    for line in file.readlines():\n",
    "        for c in line:\n",
    "            push(c)\n",
    "            \n",
    "for _ in range(top, -1, -1):\n",
    "    c= pop()\n",
    "#     if c=='\\n':\n",
    "#         print(\"\")\n",
    "#     else:\n",
    "    print(c, end='')\n"
   ]
  },
  {
   "cell_type": "code",
   "execution_count": 73,
   "id": "1f9054a3",
   "metadata": {},
   "outputs": [
    {
     "name": "stdout",
     "output_type": "stream",
     "text": [
      "문자 입력 : fsfsfsdfdsg\n",
      "마지막 값 :  g\n",
      "gsdfdsfsfsf"
     ]
    }
   ],
   "source": [
    "# 문자열을 입력받아 입력 받은 문자열의 수만큼 stack을 설정한 후\n",
    "# 각 문자를 stack에 저장하고\n",
    "# 문자의 중간 값을 출력\n",
    "# 각 문자를 뒤에서 부터 출력하고\n",
    "in_data = input(\"문자 입력 : \")\n",
    "size = len(in_data)\n",
    "stack = [None for _ in range(size)]\n",
    "top = -1\n",
    "\n",
    "for c in in_data:\n",
    "    push(c)\n",
    "print(\"마지막 값 : \", peek())\n",
    "for _ in range(size):\n",
    "    print(pop(), end=\"\")"
   ]
  }
 ],
 "metadata": {
  "kernelspec": {
   "display_name": "Python 3 (ipykernel)",
   "language": "python",
   "name": "python3"
  },
  "language_info": {
   "codemirror_mode": {
    "name": "ipython",
    "version": 3
   },
   "file_extension": ".py",
   "mimetype": "text/x-python",
   "name": "python",
   "nbconvert_exporter": "python",
   "pygments_lexer": "ipython3",
   "version": "3.9.13"
  }
 },
 "nbformat": 4,
 "nbformat_minor": 5
}
