{
 "cells": [
  {
   "cell_type": "code",
   "execution_count": 7,
   "id": "911bb15c",
   "metadata": {},
   "outputs": [
    {
     "name": "stdout",
     "output_type": "stream",
     "text": [
      "가장 작은 값의 위치 : 4, 가장 작은 값 : 7\n",
      "가장 큰 값의 위치 : 2, 가장 큰 값 : 88\n"
     ]
    }
   ],
   "source": [
    "# 최소값의 위치 반환 함수 정의\n",
    "def min_fuc(array):\n",
    "    min_idx = 0\n",
    "    for i in range(1, len(array)):\n",
    "        if array[min_idx] > array[i]:\n",
    "            min_idx = i\n",
    "    return min_idx\n",
    "\n",
    "# 최대값의 위치 반환 함수 정의\n",
    "def max_fuc(array):\n",
    "    max_idx = 0\n",
    "    for i in range(1, len(array)):\n",
    "        if array[max_idx] < array[i]:\n",
    "            max_idx = i\n",
    "    return max_idx\n",
    "\n",
    "test_arr = [55, 11, 88, 33, 7, 9]\n",
    "min_idx = min_fuc(test_arr)\n",
    "print(\"가장 작은 값의 위치 : {}, 가장 작은 값 : {}\".format(min_idx, test_arr[min_idx]))\n",
    "\n",
    "max_idx = max_fuc(test_arr)\n",
    "print(\"가장 큰 값의 위치 : {}, 가장 큰 값 : {}\".format(max_idx, test_arr[max_idx]))"
   ]
  },
  {
   "cell_type": "code",
   "execution_count": 9,
   "id": "dc9f12b4",
   "metadata": {},
   "outputs": [
    {
     "name": "stdout",
     "output_type": "stream",
     "text": [
      " 정렬 전 ->  []\n",
      " 정렬 후 ->  []\n"
     ]
    }
   ],
   "source": [
    "result = []\n",
    "print(\" 정렬 전 -> \", test_arr)\n",
    "for _ in range(len(test_arr)):\n",
    "    min_idx = min_fuc(test_arr)\n",
    "    result.append(test_arr[min_idx]) # 새로운 배열에 최소 값 추가\n",
    "    del test_arr[min_idx]\n",
    "    \n",
    "print(\" 정렬 후 -> \", result)"
   ]
  },
  {
   "cell_type": "code",
   "execution_count": 16,
   "id": "eff9b0d0",
   "metadata": {},
   "outputs": [
    {
     "name": "stdout",
     "output_type": "stream",
     "text": [
      " 정렬 전 ->  [188, 162, 88, 50, 70, 200]\n",
      "오름차수 정렬 후 ->  [50, 70, 88, 162, 188, 200]\n",
      "내림차수 정렬 후 ->  [200, 188, 162, 88, 70, 50]\n"
     ]
    }
   ],
   "source": [
    "def selectionSort(arr, rev=False):\n",
    "    n = len(arr)\n",
    "    for i in range(n-1):\n",
    "        idx = i\n",
    "        for j in range(i + 1, n):\n",
    "            if rev :\n",
    "                if arr[idx] < arr[j]:\n",
    "                    idx = j\n",
    "            else :\n",
    "                if arr[idx] > arr[j]:\n",
    "                    idx = j\n",
    "        if idx != i:\n",
    "            arr[idx], arr[i] = arr[i], arr[idx]\n",
    "    return arr\n",
    "\n",
    "test_arr = [188, 162, 88, 50, 70, 200]\n",
    "print(\" 정렬 전 -> \", test_arr)\n",
    "test_arr = selectionSort(test_arr) # 오름차수 정렬\n",
    "print(\"오름차수 정렬 후 -> \", test_arr)\n",
    "test_arr = selectionSort(test_arr, True) # 내림차수 정렬\n",
    "print(\"내림차수 정렬 후 -> \", test_arr)"
   ]
  },
  {
   "cell_type": "code",
   "execution_count": 27,
   "id": "44506ff3",
   "metadata": {},
   "outputs": [
    {
     "name": "stdout",
     "output_type": "stream",
     "text": [
      "삽입할 위치 ->  0\n",
      "삽입할 위치 ->  1\n"
     ]
    }
   ],
   "source": [
    "# insert할 위치 반환 함수\n",
    "def find_insert_idx(arr, data):\n",
    "    idx = -1 # 데이터 없음\n",
    "    for i in range(len(arr)):\n",
    "        if arr[i] > data:\n",
    "            idx = i\n",
    "            break\n",
    "    if idx == -1 :\n",
    "        return len(arr)\n",
    "    else:\n",
    "        return idx\n",
    "        \n",
    "test_arr = []\n",
    "ins_idx = find_insert_idx(test_arr, 10)\n",
    "print(\"삽입할 위치 -> \", ins_idx)\n",
    "\n",
    "test_arr = [33, 66, 88, 99]\n",
    "ins_idx = find_insert_idx(test_arr, 55)\n",
    "print(\"삽입할 위치 -> \", ins_idx)\n",
    "\n",
    "\n",
    "test_arr = [188, 162, 88, 50, 70, 200]\n",
    "result = []\n",
    "print(\" 정렬 전 -> \", test_arr)\n",
    "for data in test_arr:\n",
    "    idx = find_insert_idx(result, data)\n",
    "    result.insert(idx, data)\n",
    "print(\"오름차수 정렬 후 -> \", result)\n"
   ]
  },
  {
   "cell_type": "code",
   "execution_count": 31,
   "id": "e1986138",
   "metadata": {},
   "outputs": [
    {
     "name": "stdout",
     "output_type": "stream",
     "text": [
      " 정렬 전 ->  [188, 162, 88, 50, 70, 200]\n",
      "오름차수 정렬 후 ->  [50, 70, 88, 162, 188, 200]\n"
     ]
    }
   ],
   "source": [
    "# insertion sort를 개선한 함수 -> 배열 사용 안함\n",
    "def insertion_sort(arr):\n",
    "    n = len(arr)\n",
    "    for end in range(1, n):\n",
    "        for curr in range(end, 0, -1):\n",
    "            if arr[curr - 1] > arr[curr]:\n",
    "                arr[curr], arr[curr - 1] = arr[curr - 1], arr[curr]\n",
    "    return arr\n",
    "\n",
    "test_arr = [188, 162, 88, 50, 70, 200]\n",
    "print(\" 정렬 전 -> \", test_arr)\n",
    "test_arr = insertion_sort(test_arr)\n",
    "print(\"오름차수 정렬 후 -> \", test_arr)"
   ]
  },
  {
   "cell_type": "code",
   "execution_count": 39,
   "id": "79373b2f",
   "metadata": {},
   "outputs": [
    {
     "name": "stdout",
     "output_type": "stream",
     "text": [
      "오름차수 정렬 후 ->  [['영웅', 67], ['화사', 71], ['영탁', 78], ['선미', 88], ['민호', 92], ['초아', 99]]\n",
      "영웅 : 초아\n",
      "화사 : 민호\n",
      "영탁 : 선미\n"
     ]
    }
   ],
   "source": [
    "array = [['선미', 88], ['초아', 99], ['화사', 71], ['영탁', 78], ['영웅', 67], ['민호', 92]]\n",
    "# 성적순으로 정렬한 후 성적이 가장 높은학 생과 가징 낮은 학생을 조로 출력\n",
    "def insertion_sort(arr):\n",
    "    n = len(arr)\n",
    "    for end in range(1, n):\n",
    "        for curr in range(end, 0, -1):\n",
    "            if arr[curr - 1][1] > arr[curr][1]:\n",
    "                arr[curr], arr[curr - 1] = arr[curr - 1], arr[curr]\n",
    "    return arr\n",
    "\n",
    "array = insertion_sort(array)\n",
    "print(\"오름차수 정렬 후 -> \", array)\n",
    "\n",
    "n = len(array)\n",
    "for i in range(n//2):\n",
    "    print(f'{array[i][0]} : {array[n-i-1][0]}')"
   ]
  },
  {
   "cell_type": "code",
   "execution_count": 47,
   "id": "06e02cb9",
   "metadata": {},
   "outputs": [
    {
     "name": "stdout",
     "output_type": "stream",
     "text": [
      "[1, 20, 23, 33, 38, 44, 47, 55, 76, 88, 99, 145, 155, 199, 222, 250]\n",
      "가운뎃 값은 :  76\n"
     ]
    }
   ],
   "source": [
    "def insertion_sort(arr):\n",
    "    n = len(arr)\n",
    "    for end in range(1, n):\n",
    "        for curr in range(end, 0, -1):\n",
    "            if arr[curr - 1] > arr[curr]:\n",
    "                arr[curr], arr[curr - 1] = arr[curr - 1], arr[curr]\n",
    "    return arr\n",
    "\n",
    "# 2차원 배열에서 중앙 값을 찾기\n",
    "# 1. 2차원을 1차원으로 평탄화\n",
    "# 2. 위의 결과를 정렬\n",
    "# 3. 중앙값 찾기\n",
    "list_arr = [[55,33,250,44], [88,1,76,23], [199,222,38,47], [155,145,20,99]]\n",
    "\n",
    "list_tmp = []\n",
    "# list_tmp = [ar for arr in list_arr for ar in arr]\n",
    "for arr in list_arr:\n",
    "#    list_tmp += *arr\n",
    "    list_tmp.extend(arr)\n",
    "list_tmp = insertion_sort(list_tmp)\n",
    "print(list_tmp)\n",
    "# pos = len(list_tmp)//2\n",
    "print(\"가운뎃 값은 : \", list_tmp[len(list_tmp)//2])"
   ]
  },
  {
   "cell_type": "code",
   "execution_count": 51,
   "id": "1f4652e8",
   "metadata": {},
   "outputs": [
    {
     "name": "stdout",
     "output_type": "stream",
     "text": [
      " 정렬 전 ->  [188, 162, 88, 50, 70, 200]\n",
      "오름차수 정렬 후 ->  [50, 70, 88, 162, 188, 200]\n"
     ]
    }
   ],
   "source": [
    "# bubble sort : 현재와 앞의 자료를 비교한후 가장 큰 값이 제일 뒤로 이동\n",
    "\n",
    "def bubble_sort(arr):\n",
    "    n = len(arr)\n",
    "    for end in range(n-1, 0, -1):\n",
    "        sw = False\n",
    "        for curr in range(0, end):\n",
    "            if arr[curr + 1] < arr[curr]:\n",
    "                sw = True\n",
    "                arr[curr], arr[curr + 1] = arr[curr + 1], arr[curr]\n",
    "        if not sw:\n",
    "            break\n",
    "    return arr\n",
    "\n",
    "test_arr = [188, 162, 88, 50, 70, 200]\n",
    "print(\" 정렬 전 -> \", test_arr)\n",
    "test_arr = bubble_sort(test_arr)\n",
    "print(\"오름차수 정렬 후 -> \", test_arr)"
   ]
  },
  {
   "cell_type": "code",
   "execution_count": 76,
   "id": "21eb7cdc",
   "metadata": {},
   "outputs": [],
   "source": [
    "def bubble_sort_1(arr):\n",
    "    n = len(arr)\n",
    "    cnt = 0\n",
    "    for end in range(n-1, 0, -1):\n",
    "        sw = False\n",
    "        for curr in range(0, end):\n",
    "            if arr[curr + 1] > arr[curr]:\n",
    "                cnt += 1\n",
    "                sw = True\n",
    "                arr[curr], arr[curr + 1] = arr[curr + 1], arr[curr]\n",
    "        if not sw:\n",
    "            break\n",
    "    return cnt, arr"
   ]
  },
  {
   "cell_type": "code",
   "execution_count": 63,
   "id": "8cddf193",
   "metadata": {},
   "outputs": [
    {
     "name": "stdout",
     "output_type": "stream",
     "text": [
      " 정렬 전 ->  [158, 93, 51, 75, 89, 135, 192, 98, 186, 45, 92, 167, 149, 44, 108, 192, 66, 196, 37, 37]\n",
      "내림차순 정렬 후 ->  [196, 192, 192, 186, 167, 158, 149, 135, 108, 98, 93, 92, 89, 75, 66, 51, 45, 44, 37, 37]\n",
      "정렬횟 수  ->  87\n"
     ]
    }
   ],
   "source": [
    "# 0 ~ 200 랜덤 20개 생성 후 내림 차순으로 정렬, 정렬 수행 횟 수도 출력\n",
    "import random\n",
    "\n",
    "#test_arr = [random.randrange(0, 200) for _ in range(20)] 중복 있음\n",
    "test_arr = range(1, 200)\n",
    "test_arr = random.choices(test_arr, k=20)\n",
    "\n",
    "print(\" 정렬 전 -> \", test_arr)\n",
    "cnt, test_arr = bubble_sort_1(test_arr)\n",
    "print(\"내림차순 정렬 후 -> \", test_arr)\n",
    "print(\"정렬횟 수  -> \", cnt)"
   ]
  },
  {
   "cell_type": "code",
   "execution_count": 78,
   "id": "18b0e75d",
   "metadata": {},
   "outputs": [
    {
     "name": "stdout",
     "output_type": "stream",
     "text": [
      " 정렬 전 ->  [188, 162, 88, 50, 70, 200]\n",
      "오름차수 정렬 후 ->  [50, 70, 88, 162, 188, 200]\n"
     ]
    }
   ],
   "source": [
    "# Quick sort : 중간값을 지정한 후 중간 값보다 작으면 왼쪽, 크면 오른쪽 리스트에\n",
    "# list의 갯수가 1일때 까지 반복(재귀함수 사용)\n",
    "def quick_sort_cnt(arr):\n",
    "    global cnt\n",
    "    n = len(arr)\n",
    "    if n <= 1 :\n",
    "        return arr\n",
    "    pivot = arr[n//2]\n",
    "    left_arr, right_arr = [], []\n",
    "    \n",
    "    for m in arr:\n",
    "        cnt += 1\n",
    "        if m < pivot:\n",
    "            left_arr.append(m)\n",
    "        elif m > pivot:\n",
    "            right_arr.append(m)\n",
    "    return quick_sort(left_arr) + [pivot] + quick_sort(right_arr)\n",
    "    \n",
    "test_arr = [188, 162, 88, 50, 70, 200]\n",
    "print(\" 정렬 전 -> \", test_arr)\n",
    "test_arr = quick_sort(test_arr)\n",
    "print(\"오름차수 정렬 후 -> \", test_arr)"
   ]
  },
  {
   "cell_type": "code",
   "execution_count": 77,
   "id": "a2504a3a",
   "metadata": {},
   "outputs": [
    {
     "name": "stdout",
     "output_type": "stream",
     "text": [
      " 정렬 전 ->  [55, 81, 8, 183, 10, 166, 30, 126, 50, 187, 148, 64, 118, 63, 73, 122, 21, 85, 84, 137]\n",
      "정렬 후 ->  [8, 10, 21, 30, 50, 55, 63, 64, 73, 81, 84, 85, 118, 122, 126, 137, 148, 166, 183, 187]\n",
      "정렬횟 수  ->  82\n"
     ]
    }
   ],
   "source": [
    "# 0 ~ 200 랜덤 20개 생성 후 정렬, 정렬 수행 횟 수도 출력\n",
    "import random\n",
    "\n",
    "#test_arr = [random.randrange(0, 200) for _ in range(20)]\n",
    "test_arr = range(1, 200)\n",
    "test_arr = random.choices(test_arr, k=20)\n",
    "\n",
    "cnt = 0\n",
    "print(\" 정렬 전 -> \", test_arr)\n",
    "test_arr = quick_sort_cnt(test_arr)\n",
    "print(\"정렬 후 -> \", test_arr)\n",
    "print(\"정렬횟 수  -> \", cnt)"
   ]
  },
  {
   "cell_type": "code",
   "execution_count": 80,
   "id": "0003e356",
   "metadata": {},
   "outputs": [],
   "source": [
    "# 중복값 고려한 quick sort\n",
    "def quick_sort_dup(arr):\n",
    "    global cnt\n",
    "    n = len(arr)\n",
    "    if n <= 1 :\n",
    "        return arr\n",
    "    pivot = arr[n//2]\n",
    "    left_arr, mid_arr, right_arr = [], [], []\n",
    "    \n",
    "    for m in arr:\n",
    "        if m < pivot:\n",
    "            left_arr.append(m)\n",
    "        elif m > pivot:\n",
    "            right_arr.append(m)\n",
    "        else:\n",
    "            mid_arr.append(m)\n",
    "            \n",
    "    return quick_sort(left_arr) + mid_arr + quick_sort(right_arr)"
   ]
  },
  {
   "cell_type": "code",
   "execution_count": 87,
   "id": "a5c2b0d7",
   "metadata": {},
   "outputs": [
    {
     "name": "stdout",
     "output_type": "stream",
     "text": [
      " 정렬 전 ->  [123, 131, 16, 184, 164, 140, 82, 173, 176, 58, 50, 173, 82, 186, 170, 3, 155, 133, 52, 103]\n",
      "정렬 후 ->  [3, 16, 50, 52, 58, 82, 103, 123, 131, 133, 140, 155, 164, 170, 173, 176, 184, 186]\n"
     ]
    }
   ],
   "source": [
    "# 0 ~ 200 랜덤 20개 생성 후 정렬, 정렬 수행 횟 수도 출력\n",
    "import random\n",
    "\n",
    "# test_arr = [random.randrange(0, 200) for _ in range(20)]\n",
    "test_arr = range(1, 200)\n",
    "test_arr = random.choices(test_arr, k=20)\n",
    "\n",
    "print(\" 정렬 전 -> \", test_arr)\n",
    "test_arr = quick_sort_dup(test_arr)\n",
    "print(\"정렬 후 -> \", test_arr)"
   ]
  },
  {
   "cell_type": "code",
   "execution_count": 100,
   "id": "aafe1b0f",
   "metadata": {},
   "outputs": [],
   "source": [
    "# 추가의 배열을 사용 하지 않고 값을 교환하면서 정렬 진행\n",
    "def Qsort(arr, start, end):\n",
    "    if end <= start:\n",
    "        return\n",
    "    low = start\n",
    "    high = end\n",
    "    pivot = arr[(low + high)//2] # 기준값 <- 중간값으로 설정\n",
    "    while low <= high:\n",
    "        while arr[low] < pivot: # low 값을 증가 시키면서 pivot과 비교 pivot보다 low가 작으면 low 증가\n",
    "            low += 1\n",
    "        \n",
    "        while arr[high] > pivot: # high 값을 감소 시키면서 pivot과 비교 pivot보다 high가 크면 high 감소\n",
    "            high -= 1\n",
    "        if low <= high:\n",
    "            arr[low], arr[high] = arr[high], arr[low]\n",
    "#             low += 1\n",
    "#             high -= 1\n",
    "            low, high = low + 1, high - 1\n",
    "    mid = low\n",
    "    Qsort(arr, start, mid-1)\n",
    "    Qsort(arr, mid, end)"
   ]
  },
  {
   "cell_type": "code",
   "execution_count": 101,
   "id": "9692368f",
   "metadata": {},
   "outputs": [
    {
     "name": "stdout",
     "output_type": "stream",
     "text": [
      " 정렬 전 ->  [132, 169, 14, 188, 198, 105, 126, 153, 97, 38, 86, 106, 18, 88, 134, 162, 109, 102, 67, 190]\n",
      "정렬 후 ->  [14, 18, 38, 67, 86, 88, 97, 102, 105, 106, 109, 126, 132, 134, 153, 162, 169, 188, 190, 198]\n"
     ]
    }
   ],
   "source": [
    "# 0 ~ 200 랜덤 20개 생성 후 정렬, 정렬 수행 횟 수도 출력\n",
    "import random\n",
    "\n",
    "# test_arr = [random.randrange(0, 200) for _ in range(20)]\n",
    "test_arr = range(1, 200)\n",
    "test_arr = random.choices(test_arr, k=20)\n",
    "\n",
    "print(\" 정렬 전 -> \", test_arr)\n",
    "Qsort(test_arr, 0, len(test_arr)-1)\n",
    "print(\"정렬 후 -> \", test_arr)"
   ]
  }
 ],
 "metadata": {
  "kernelspec": {
   "display_name": "Python 3 (ipykernel)",
   "language": "python",
   "name": "python3"
  },
  "language_info": {
   "codemirror_mode": {
    "name": "ipython",
    "version": 3
   },
   "file_extension": ".py",
   "mimetype": "text/x-python",
   "name": "python",
   "nbconvert_exporter": "python",
   "pygments_lexer": "ipython3",
   "version": "3.9.13"
  }
 },
 "nbformat": 4,
 "nbformat_minor": 5
}
